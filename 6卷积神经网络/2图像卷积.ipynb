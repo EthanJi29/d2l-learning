{
 "cells": [
  {
   "cell_type": "code",
   "execution_count": 1,
   "metadata": {},
   "outputs": [],
   "source": [
    "import torch\n",
    "from torch import nn\n",
    "\n"
   ]
  },
  {
   "cell_type": "code",
   "execution_count": 4,
   "metadata": {},
   "outputs": [],
   "source": [
    "def corr2d(X, K):\n",
    "    h, w = K.shape\n",
    "    Y = torch.zeros(size=(X.shape[0]-h+1, X.shape[1]-w+1)) # 卷积结果尺寸 5*5和3*3卷积，结果3*3\n",
    "    for i in range(Y.shape[0]):\n",
    "        for j in range(Y.shape[1]):\n",
    "            Y[i,j]=(X[i:i+h, j:j+w] * K).sum()\n",
    "    return Y"
   ]
  },
  {
   "cell_type": "code",
   "execution_count": 5,
   "metadata": {},
   "outputs": [
    {
     "data": {
      "text/plain": [
       "tensor([[19., 25.],\n",
       "        [37., 43.]])"
      ]
     },
     "execution_count": 5,
     "metadata": {},
     "output_type": "execute_result"
    }
   ],
   "source": [
    "X = torch.tensor([[0.,1.,2.],\n",
    "                  [3.,4.,5.],\n",
    "                  [6.,7.,8.]])\n",
    "K = torch.tensor([[0.,1.],\n",
    "                  [2.,3.]])\n",
    "corr2d(X,K)"
   ]
  },
  {
   "cell_type": "code",
   "execution_count": 6,
   "metadata": {},
   "outputs": [],
   "source": [
    "class Conv2D(nn.Module):\n",
    "    def __init__(self, kernel_size):\n",
    "        super().__init__()\n",
    "        self.weight=nn.Parameter(torch.rand(kernel_size))\n",
    "        self.bias = nn.Parameter(torch.zeros(1))\n",
    "\n",
    "    def forward(self, x):\n",
    "        return corr2d(x, self.weight)+self.bias"
   ]
  },
  {
   "cell_type": "code",
   "execution_count": 14,
   "metadata": {},
   "outputs": [
    {
     "data": {
      "text/plain": [
       "tensor([[1., 1., 0., 0., 0., 0., 1., 1.],\n",
       "        [1., 1., 0., 0., 0., 0., 1., 1.],\n",
       "        [1., 1., 0., 0., 0., 0., 1., 1.],\n",
       "        [1., 1., 0., 0., 0., 0., 1., 1.],\n",
       "        [1., 1., 0., 0., 0., 0., 1., 1.],\n",
       "        [1., 1., 0., 0., 0., 0., 1., 1.]])"
      ]
     },
     "execution_count": 14,
     "metadata": {},
     "output_type": "execute_result"
    }
   ],
   "source": [
    "X = torch.ones(size=(6,8))\n",
    "X[:,2:6] = 0.\n",
    "X"
   ]
  },
  {
   "cell_type": "code",
   "execution_count": 15,
   "metadata": {},
   "outputs": [
    {
     "data": {
      "text/plain": [
       "tensor([[ 0.,  1.,  0.,  0.,  0., -1.,  0.],\n",
       "        [ 0.,  1.,  0.,  0.,  0., -1.,  0.],\n",
       "        [ 0.,  1.,  0.,  0.,  0., -1.,  0.],\n",
       "        [ 0.,  1.,  0.,  0.,  0., -1.,  0.],\n",
       "        [ 0.,  1.,  0.,  0.,  0., -1.,  0.],\n",
       "        [ 0.,  1.,  0.,  0.,  0., -1.,  0.]])"
      ]
     },
     "execution_count": 15,
     "metadata": {},
     "output_type": "execute_result"
    }
   ],
   "source": [
    "K = torch.tensor([[1., -1.]])\n",
    "Y = corr2d(X=X, K=K)\n",
    "Y"
   ]
  },
  {
   "cell_type": "code",
   "execution_count": 24,
   "metadata": {},
   "outputs": [],
   "source": [
    "# 学习卷积核\n",
    "conv2d = nn.Conv2d(1,1,kernel_size=(1,2),bias=False)\n",
    "\n",
    "# 这个二维卷积层使用四维输入和输出格式（批量大小、通道、高度、宽度），\n",
    "# 其中批量大小和通道数都为1\n",
    "X = X.reshape(1,1,6,8)\n",
    "Y = Y.reshape(1,1,6,7) # 卷积结果 上面的矩阵，Y在这里是答案\n",
    "lr=3e-2\n",
    "\n",
    "\n"
   ]
  },
  {
   "cell_type": "code",
   "execution_count": 25,
   "metadata": {},
   "outputs": [
    {
     "data": {
      "text/plain": [
       "Parameter containing:\n",
       "tensor([[[[-0.4102, -0.1481]]]], requires_grad=True)"
      ]
     },
     "execution_count": 25,
     "metadata": {},
     "output_type": "execute_result"
    }
   ],
   "source": [
    "conv2d.weight"
   ]
  },
  {
   "cell_type": "code",
   "execution_count": 27,
   "metadata": {},
   "outputs": [
    {
     "data": {
      "text/plain": [
       "tensor([[[[-0.4102, -0.1481]]]])"
      ]
     },
     "execution_count": 27,
     "metadata": {},
     "output_type": "execute_result"
    }
   ],
   "source": [
    "conv2d.weight.data"
   ]
  },
  {
   "cell_type": "code",
   "execution_count": 26,
   "metadata": {},
   "outputs": [
    {
     "data": {
      "text/plain": [
       "tensor([[[[-0.4102, -0.1481]]]])"
      ]
     },
     "execution_count": 26,
     "metadata": {},
     "output_type": "execute_result"
    }
   ],
   "source": [
    "conv2d.weight.data[:]"
   ]
  },
  {
   "cell_type": "code",
   "execution_count": 28,
   "metadata": {},
   "outputs": [
    {
     "name": "stdout",
     "output_type": "stream",
     "text": [
      "epoch1, loss 20.026\n",
      "epoch2, loss 9.280\n",
      "epoch3, loss 4.490\n",
      "epoch4, loss 2.281\n",
      "epoch5, loss 1.216\n",
      "epoch6, loss 0.679\n",
      "epoch7, loss 0.394\n",
      "epoch8, loss 0.235\n",
      "epoch9, loss 0.144\n",
      "epoch10, loss 0.089\n",
      "epoch11, loss 0.056\n",
      "epoch12, loss 0.035\n",
      "epoch13, loss 0.022\n",
      "epoch14, loss 0.014\n",
      "epoch15, loss 0.009\n",
      "epoch16, loss 0.006\n",
      "epoch17, loss 0.004\n",
      "epoch18, loss 0.002\n",
      "epoch19, loss 0.002\n",
      "epoch20, loss 0.001\n",
      "epoch21, loss 0.001\n",
      "epoch22, loss 0.000\n",
      "epoch23, loss 0.000\n",
      "epoch24, loss 0.000\n",
      "epoch25, loss 0.000\n",
      "epoch26, loss 0.000\n",
      "epoch27, loss 0.000\n",
      "epoch28, loss 0.000\n",
      "epoch29, loss 0.000\n",
      "epoch30, loss 0.000\n",
      "epoch31, loss 0.000\n",
      "epoch32, loss 0.000\n",
      "epoch33, loss 0.000\n",
      "epoch34, loss 0.000\n",
      "epoch35, loss 0.000\n",
      "epoch36, loss 0.000\n",
      "epoch37, loss 0.000\n",
      "epoch38, loss 0.000\n",
      "epoch39, loss 0.000\n",
      "epoch40, loss 0.000\n",
      "epoch41, loss 0.000\n",
      "epoch42, loss 0.000\n",
      "epoch43, loss 0.000\n",
      "epoch44, loss 0.000\n",
      "epoch45, loss 0.000\n",
      "epoch46, loss 0.000\n",
      "epoch47, loss 0.000\n",
      "epoch48, loss 0.000\n",
      "epoch49, loss 0.000\n",
      "epoch50, loss 0.000\n"
     ]
    }
   ],
   "source": [
    "for i in range(50):\n",
    "    Y_hat = conv2d(X)\n",
    "    l = (Y_hat-Y)**2\n",
    "    conv2d.zero_grad()\n",
    "    l.sum().backward()\n",
    "    conv2d.weight.data -= lr*conv2d.weight.grad\n",
    "    print(f'epoch{i+1}, loss {l.sum():.3f}')"
   ]
  },
  {
   "cell_type": "code",
   "execution_count": 29,
   "metadata": {},
   "outputs": [
    {
     "data": {
      "text/plain": [
       "tensor([[ 1.0000, -1.0000]])"
      ]
     },
     "execution_count": 29,
     "metadata": {},
     "output_type": "execute_result"
    }
   ],
   "source": [
    "conv2d.weight.data.reshape(1,2)"
   ]
  }
 ],
 "metadata": {
  "kernelspec": {
   "display_name": "torch",
   "language": "python",
   "name": "python3"
  },
  "language_info": {
   "codemirror_mode": {
    "name": "ipython",
    "version": 3
   },
   "file_extension": ".py",
   "mimetype": "text/x-python",
   "name": "python",
   "nbconvert_exporter": "python",
   "pygments_lexer": "ipython3",
   "version": "3.9.18"
  },
  "orig_nbformat": 4
 },
 "nbformat": 4,
 "nbformat_minor": 2
}
