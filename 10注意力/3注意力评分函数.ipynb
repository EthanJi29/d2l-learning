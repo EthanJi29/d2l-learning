{
 "cells": [
  {
   "cell_type": "code",
   "execution_count": 1,
   "metadata": {},
   "outputs": [],
   "source": [
    "import math\n",
    "import torch\n",
    "from torch import nn\n",
    "from d2l import torch as d2l\n",
    "\n"
   ]
  },
  {
   "cell_type": "code",
   "execution_count": 2,
   "metadata": {},
   "outputs": [],
   "source": [
    "#为了仅将有意义的词元作为值来获取注意力汇聚， \n",
    "#可以指定一个有效序列长度（即词元的个数）， \n",
    "#以便在计算softmax时过滤掉超出指定范围的位置。 \n",
    "#下面的masked_softmax函数 实现了这样的掩蔽softmax操作（masked softmax operation），'\n",
    "#其中任何超出有效长度的位置都被掩蔽并置为0。\n",
    "def masked_softmax(X, valid_lens):\n",
    "    \"\"\"通过在最后一个轴上掩蔽元素来执行softmax操作\"\"\"\n",
    "    #X 3d张量， valid lens 1d或2d张量\n",
    "    if valid_lens is None:\n",
    "        return nn.functional.softmax(X, dim=-1)\n",
    "    else:\n",
    "        shape = X.shape\n",
    "        if valid_lens.dim() == 1: # 1d\n",
    "            valid_lens = torch.repeat_interleave(valid_lens, shape[1])\n",
    "        else: # 2d\n",
    "            valid_lens = valid_lens.reshape(-1)\n",
    "        # 最后一个轴上被掩蔽的元素使用一个非常大的负值来替换，这样过softmax函数后输出为0\n",
    "        X = d2l.sequence_mask(X.reshape(-1, shape[-1]), valid_lens, value=-1e6)\n",
    "        return nn.functional.softmax(X.reshape(shape), dim=-1)\n",
    "        \n"
   ]
  },
  {
   "cell_type": "code",
   "execution_count": 3,
   "metadata": {},
   "outputs": [
    {
     "data": {
      "text/plain": [
       "tensor([[[0.4587, 0.5413, 0.0000, 0.0000],\n",
       "         [0.6785, 0.3215, 0.0000, 0.0000]],\n",
       "\n",
       "        [[0.3623, 0.3248, 0.3129, 0.0000],\n",
       "         [0.4358, 0.2873, 0.2769, 0.0000]]])"
      ]
     },
     "execution_count": 3,
     "metadata": {},
     "output_type": "execute_result"
    }
   ],
   "source": [
    "masked_softmax(torch.rand(2,2,4), torch.tensor([2,3]))"
   ]
  },
  {
   "cell_type": "code",
   "execution_count": 4,
   "metadata": {},
   "outputs": [
    {
     "data": {
      "text/plain": [
       "tensor([[[1.0000, 0.0000, 0.0000, 0.0000],\n",
       "         [0.2296, 0.4126, 0.3578, 0.0000]],\n",
       "\n",
       "        [[0.4201, 0.5799, 0.0000, 0.0000],\n",
       "         [0.2217, 0.2035, 0.2645, 0.3103]]])"
      ]
     },
     "execution_count": 4,
     "metadata": {},
     "output_type": "execute_result"
    }
   ],
   "source": [
    "masked_softmax(torch.rand(2, 2, 4), torch.tensor([[1, 3], [2, 4]]))"
   ]
  },
  {
   "cell_type": "code",
   "execution_count": null,
   "metadata": {},
   "outputs": [],
   "source": []
  }
 ],
 "metadata": {
  "kernelspec": {
   "display_name": "torch",
   "language": "python",
   "name": "python3"
  },
  "language_info": {
   "codemirror_mode": {
    "name": "ipython",
    "version": 3
   },
   "file_extension": ".py",
   "mimetype": "text/x-python",
   "name": "python",
   "nbconvert_exporter": "python",
   "pygments_lexer": "ipython3",
   "version": "3.9.18"
  },
  "orig_nbformat": 4
 },
 "nbformat": 4,
 "nbformat_minor": 2
}
